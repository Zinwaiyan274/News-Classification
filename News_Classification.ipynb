{
  "nbformat": 4,
  "nbformat_minor": 0,
  "metadata": {
    "colab": {
      "name": "News Classification.ipynb",
      "provenance": [],
      "authorship_tag": "ABX9TyO7JObul98fAMOoONUnaOyI",
      "include_colab_link": true
    },
    "kernelspec": {
      "name": "python3",
      "display_name": "Python 3"
    },
    "language_info": {
      "name": "python"
    }
  },
  "cells": [
    {
      "cell_type": "markdown",
      "metadata": {
        "id": "view-in-github",
        "colab_type": "text"
      },
      "source": [
        "<a href=\"https://colab.research.google.com/github/Zinwaiyan274/News-Classification/blob/main/News_Classification.ipynb\" target=\"_parent\"><img src=\"https://colab.research.google.com/assets/colab-badge.svg\" alt=\"Open In Colab\"/></a>"
      ]
    },
    {
      "cell_type": "code",
      "execution_count": 6,
      "metadata": {
        "colab": {
          "base_uri": "https://localhost:8080/"
        },
        "id": "Stz5STxLFPBE",
        "outputId": "3b5df5a5-9188-4d1b-f7a1-f813806ad271"
      },
      "outputs": [
        {
          "output_type": "stream",
          "name": "stdout",
          "text": [
            "   category filename                              title  \\\n",
            "0  business  001.txt  Ad sales boost Time Warner profit   \n",
            "1  business  002.txt   Dollar gains on Greenspan speech   \n",
            "2  business  003.txt  Yukos unit buyer faces loan claim   \n",
            "3  business  004.txt  High fuel prices hit BA's profits   \n",
            "4  business  005.txt  Pernod takeover talk lifts Domecq   \n",
            "\n",
            "                                             content  \n",
            "0   Quarterly profits at US media giant TimeWarne...  \n",
            "1   The dollar has hit its highest level against ...  \n",
            "2   The owners of embattled Russian oil giant Yuk...  \n",
            "3   British Airways has blamed high fuel prices f...  \n",
            "4   Shares in UK drinks and food firm Allied Dome...  \n"
          ]
        }
      ],
      "source": [
        "import pandas as pd\n",
        "import numpy as np\n",
        "from sklearn.feature_extraction.text import CountVectorizer\n",
        "from sklearn.model_selection import train_test_split\n",
        "from sklearn.naive_bayes import MultinomialNB\n",
        "\n",
        "data = pd.read_csv(\"https://raw.githubusercontent.com/amankharwal/Website-data/master/bbc-news-data.csv\", sep='\\t')\n",
        "print(data.head())"
      ]
    },
    {
      "cell_type": "code",
      "source": [
        "data.count()"
      ],
      "metadata": {
        "colab": {
          "base_uri": "https://localhost:8080/"
        },
        "id": "yGdS266TFnri",
        "outputId": "c9b1bef8-fdd2-404d-800c-15ec3a939d2f"
      },
      "execution_count": 5,
      "outputs": [
        {
          "output_type": "execute_result",
          "data": {
            "text/plain": [
              "category    2225\n",
              "filename    2225\n",
              "title       2225\n",
              "content     2225\n",
              "dtype: int64"
            ]
          },
          "metadata": {},
          "execution_count": 5
        }
      ]
    },
    {
      "cell_type": "code",
      "source": [
        "data.isnull().sum()"
      ],
      "metadata": {
        "colab": {
          "base_uri": "https://localhost:8080/"
        },
        "id": "0Acy4gnzFXGh",
        "outputId": "3385d737-4172-4a9f-b722-8b42c669fb8c"
      },
      "execution_count": 7,
      "outputs": [
        {
          "output_type": "execute_result",
          "data": {
            "text/plain": [
              "category    0\n",
              "filename    0\n",
              "title       0\n",
              "content     0\n",
              "dtype: int64"
            ]
          },
          "metadata": {},
          "execution_count": 7
        }
      ]
    },
    {
      "cell_type": "code",
      "source": [
        "data[\"category\"].value_counts()"
      ],
      "metadata": {
        "colab": {
          "base_uri": "https://localhost:8080/"
        },
        "id": "4Y_tybcnFXMA",
        "outputId": "aa8f9572-9d41-4660-e046-a28476e75715"
      },
      "execution_count": 8,
      "outputs": [
        {
          "output_type": "execute_result",
          "data": {
            "text/plain": [
              "sport            511\n",
              "business         510\n",
              "politics         417\n",
              "tech             401\n",
              "entertainment    386\n",
              "Name: category, dtype: int64"
            ]
          },
          "metadata": {},
          "execution_count": 8
        }
      ]
    },
    {
      "cell_type": "code",
      "source": [
        "\n",
        "data = data[[\"title\", \"category\"]]\n",
        "\n",
        "x = np.array(data[\"title\"])\n",
        "y = np.array(data[\"category\"])\n",
        "\n",
        "cv = CountVectorizer()\n",
        "X = cv.fit_transform(x)\n",
        "X_train, X_test, y_train, y_test = train_test_split(X, y, test_size=0.33, random_state=42)"
      ],
      "metadata": {
        "id": "vhi1N95sFsZv"
      },
      "execution_count": 9,
      "outputs": []
    },
    {
      "cell_type": "code",
      "source": [
        "model = MultinomialNB()\n",
        "model.fit(X_train,y_train)"
      ],
      "metadata": {
        "colab": {
          "base_uri": "https://localhost:8080/"
        },
        "id": "ai5wUgKUFwmZ",
        "outputId": "df61352d-e6f5-420d-f0c9-90c789781d18"
      },
      "execution_count": 10,
      "outputs": [
        {
          "output_type": "execute_result",
          "data": {
            "text/plain": [
              "MultinomialNB()"
            ]
          },
          "metadata": {},
          "execution_count": 10
        }
      ]
    },
    {
      "cell_type": "code",
      "source": [
        "user = input(\"Enter a Text: \")\n",
        "data = cv.transform([user]).toarray()\n",
        "output = model.predict(data)\n",
        "print(output)"
      ],
      "metadata": {
        "colab": {
          "base_uri": "https://localhost:8080/"
        },
        "id": "dfUi6PtNFwpO",
        "outputId": "30c54e59-e438-4807-900d-58446926e2f0"
      },
      "execution_count": 18,
      "outputs": [
        {
          "output_type": "stream",
          "name": "stdout",
          "text": [
            "Enter a Text: music\n",
            "['entertainment']\n"
          ]
        }
      ]
    }
  ]
}